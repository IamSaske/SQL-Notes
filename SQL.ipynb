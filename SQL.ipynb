{
 "cells": [
  {
   "cell_type": "markdown",
   "id": "ae58127d",
   "metadata": {},
   "source": [
    "# RETRIVING DATA"
   ]
  },
  {
   "cell_type": "markdown",
   "id": "de52414c",
   "metadata": {},
   "source": [
    ">•\tIt’s a good practice to write table name before column name while retrieving as it clarifies which table’s column we are trying to get.  \n",
    "•\tSQL treats all spaces same\n",
    "•\tIf column name is matching with function use double quotes for column name\n",
    "\n"
   ]
  },
  {
   "cell_type": "markdown",
   "id": "40116279",
   "metadata": {},
   "source": [
    "# SQL LIMIT"
   ]
  },
  {
   "cell_type": "markdown",
   "id": "cbe604c7",
   "metadata": {},
   "source": [
    ">•\tIt limits the result up to the input given"
   ]
  },
  {
   "cell_type": "markdown",
   "id": "293d4c91",
   "metadata": {},
   "source": [
    "## WHERE CLAUSE\n"
   ]
  },
  {
   "cell_type": "markdown",
   "id": "f80cdbac",
   "metadata": {},
   "source": [
    "\n",
    ">•\tIt’s a condition we put to get the certain result\n"
   ]
  },
  {
   "cell_type": "markdown",
   "id": "2ac949cc",
   "metadata": {},
   "source": [
    "## COMPARISON OPERATORS\n",
    "\n"
   ]
  },
  {
   "cell_type": "markdown",
   "id": "019018da",
   "metadata": {},
   "source": [
    "\n",
    ">\tEqual to  =\n",
    "\n",
    ">\tNot equal to <>, !=\n",
    "\n",
    ">\tGreater than or equal to >=\n",
    "\n",
    ">\tLess than or equal to <=\n",
    "\n",
    ">It’s possible to perform arithmetic operations in queries\n"
   ]
  },
  {
   "cell_type": "markdown",
   "id": "9a38d7a5",
   "metadata": {},
   "source": [
    "## LOGICAL OPERATORS\n",
    "\n"
   ]
  },
  {
   "cell_type": "markdown",
   "id": "3ebeae59",
   "metadata": {},
   "source": [
    "\n",
    ">\tOrder by- to arrange data ASC or DESC\n",
    "\n",
    "\n",
    ">Like- match similar values instead of exact ones(mostly used with % or _ in pattern finding) , it’s also a case sensitive for that use ILIKE\n",
    "\n",
    ">\tIN-logical operator in SQL that allows you to specify a list of values that you'd like to include in the results(eg. Find names whose initial letter have vowels in them ), it’s also case sensitive\n",
    "\n",
    ">\tBetween-finds values in provided range\n",
    "\n",
    ">\tIs null- will give rows which have null values, you can’t write ‘=null’ as you can’t perform arithmetic on null values\n",
    "\n",
    ">\tAnd- consider both conditions\n",
    "\tOr- consider either one of them\n"
   ]
  },
  {
   "cell_type": "markdown",
   "id": "9da53b8c",
   "metadata": {},
   "source": [
    "## AGGREGATE FUNCTIONS"
   ]
  },
  {
   "cell_type": "markdown",
   "id": "ae53f2cf",
   "metadata": {},
   "source": [
    ">\tCount,Sum,Avg,Min,Max(Aggregators aggregates vertically only) \n",
    "\n",
    ">Count- 1. Count(*) OR Count(1)  will count all rows from column 2.count(column name) for individual column \n",
    "\n",
    ">Sum – Sum(column name) will return sum from that column\n",
    "\n",
    ">Min- returns lowest value/date/closes alphabet possible to A\n",
    "\n",
    ">Max- opposite of min\n",
    "\n",
    ">Avg- returns average of columns\n"
   ]
  },
  {
   "cell_type": "markdown",
   "id": "608f4588",
   "metadata": {},
   "source": [
    "## SQL GROUP BY CLAUSE"
   ]
  },
  {
   "cell_type": "markdown",
   "id": "b5033a86",
   "metadata": {},
   "source": [
    ">•\t1.for counting part of table and it’s count  2. We can also count multiple columns 3. We can also group by column numbers (tip use count* as you will be counting whole row sometimes)"
   ]
  },
  {
   "cell_type": "markdown",
   "id": "3bd5db21",
   "metadata": {},
   "source": [
    "## SQL HAVING CLAUSE"
   ]
  },
  {
   "cell_type": "markdown",
   "id": "9c9dc03f",
   "metadata": {},
   "source": [
    ">•\tImportant – Aggregate functions are not allowed in where clause so we use having clause\n",
    "•\tQuery clause order: select-from-where-group by-having-order by\n",
    "•\tHaving clause use to filter queries with aggregate functions\n",
    "•\tAlternative of having is subquery\n"
   ]
  },
  {
   "cell_type": "markdown",
   "id": "803e6256",
   "metadata": {},
   "source": [
    ">•\tSELECT year,\n",
    "\n",
    "\n",
    ">  month,\n",
    "\n",
    ">\t      MAX(high) AS month_high\n",
    ">\t  FROM tutorial.aapl_historical_stock_price\n",
    ">\tGROUP BY year, month\n",
    ">\tHAVING MAX(high) > 400\n",
    ">\tORDER BY year, month\n"
   ]
  },
  {
   "cell_type": "markdown",
   "id": "ffac1fda",
   "metadata": {},
   "source": [
    ">Another way is subquery\n"
   ]
  },
  {
   "cell_type": "markdown",
   "id": "067369ff",
   "metadata": {},
   "source": [
    ">•\t SELECT year,month,max(high) as month_high\n",
    "\n",
    ">\t   from( \n",
    ">\t   select year,month,high\n",
    ">\t   from tutorial.aapl_historical_stock_price \n",
    ">\t   WHERE high>400\n",
    ">\t   )sub\n",
    ">\t GROUP BY 1,2\n",
    ">\tORDER by 1,2\n"
   ]
  },
  {
   "cell_type": "markdown",
   "id": "5cb24486",
   "metadata": {},
   "source": [
    "## CASE"
   ]
  },
  {
   "cell_type": "markdown",
   "id": "fe20bea6",
   "metadata": {},
   "source": [
    ">•\tIt’s like a if/else statement\n",
    "\n",
    ">•\tSyntax-   select\n",
    "                Case  when (condition) then (output)\n",
    "                          Else (output) end\n",
    "                \n",
    ">•\tMultiple case statements are allowed\n"
   ]
  },
  {
   "cell_type": "markdown",
   "id": "c066bcf4",
   "metadata": {},
   "source": [
    "## DISTINCT"
   ]
  },
  {
   "cell_type": "markdown",
   "id": "70e54b1d",
   "metadata": {},
   "source": [
    ">•\tTo select unique values\n",
    "\n",
    ">•\tWhen it comes to the performance using distinct keyword will slow down performance\n"
   ]
  },
  {
   "cell_type": "markdown",
   "id": "69dad00d",
   "metadata": {},
   "source": [
    "## JOIN"
   ]
  },
  {
   "cell_type": "markdown",
   "id": "bfd8f8ee",
   "metadata": {},
   "source": [
    ">To connect more than one table\n",
    "\n",
    ">Basic join-   syntax      select –from 1st table—join 2nd table—on common key\n",
    "\n",
    ">Inner join- will join only those rows which have common values like intersection\n",
    "\n",
    ">Outer join- it will join whether or not they have the common values\n",
    "\n",
    ">1.left join- it will connect both tables where are not they have common values and in second tables where values are not matching it will create null\n",
    "\n",
    ">2.Right join- it will create opposite results of left join, connect from right and null values on left\n",
    "\n",
    ">•\tWhere clause in joins- it is use to filter out results we wanted\n",
    "\n",
    ">•\tFull join- It’s return all values from unmatched tables\n"
   ]
  },
  {
   "cell_type": "markdown",
   "id": "b9ca730e",
   "metadata": {},
   "source": [
    "## UNIONS"
   ]
  },
  {
   "cell_type": "markdown",
   "id": "c800a048",
   "metadata": {},
   "source": [
    ">\tUse to stich two different queries together and produce result in same column. It append only distinct values\n",
    "\n",
    ">To append even duplicate values we use UNION ALL\n"
   ]
  },
  {
   "cell_type": "markdown",
   "id": "2250a350",
   "metadata": {},
   "source": [
    "## JOIN ON MULTIPLE KEYS\n"
   ]
  },
  {
   "cell_type": "markdown",
   "id": "0d66ea9d",
   "metadata": {},
   "source": [
    ">\n",
    "•\tYou can join tables on multiple keys but it will have not that much effect as first join will filter most of the part\n"
   ]
  },
  {
   "cell_type": "markdown",
   "id": "31cbcb6c",
   "metadata": {},
   "source": [
    "## JOIN WITH WHERE"
   ]
  },
  {
   "cell_type": "markdown",
   "id": "e26e2bd3",
   "metadata": {},
   "source": [
    ">•\tWhen you still want to join but inner and outer are not giving you desired results, you can use where clause as it is capable join\n",
    "\n",
    ">•\tWriting whole new query inside of where clause is possible (see hackerrank harry potter question)\n"
   ]
  },
  {
   "cell_type": "markdown",
   "id": "4ac5a17d",
   "metadata": {},
   "source": [
    "## SQL DATA TYPES"
   ]
  },
  {
   "cell_type": "markdown",
   "id": "56fd2c58",
   "metadata": {},
   "source": [
    "> •\tIt has a vast list of data types but only few such as int, varchar, timestamp, Boolean\n",
    "\n",
    ">•\tChanging data types in columns use- CAST(column name AS datatype in which to change) OR column name::datatype in which to change\n"
   ]
  },
  {
   "cell_type": "markdown",
   "id": "17d9eb61",
   "metadata": {},
   "source": [
    "## SQL DATE FROMAT"
   ]
  },
  {
   "cell_type": "markdown",
   "id": "1e67f2db",
   "metadata": {},
   "source": [
    ">•\tWhen you perform arithmetic on dates (such as subtracting one date from another), the results are often stored as the interval (Year-month-date hr:min:sec)data type\n",
    "\n",
    ">•\tImportant if format is not in timestamp, first convert it into timestamp format\n",
    "\n",
    ">Adding your own interval with INTERVAL FUNCTION (sELECT companies.permalink,\n",
    "      \n",
    "                                                  companies.founded_at_clean,\n",
    "       \n",
    "                                                  companies.founded_at_clean::timestamp +  INTERVAL '1 week' AS plus_one_week\n",
    "  \n",
    "                                                  FROM tutorial.crunchbase_companies_clean_date companies\n",
    " \n",
    "                                                  WHERE founded_at_clean IS NOT NULL)\n",
    "\n",
    ">•\tIn the above code we are adding 1 week interval\n",
    "\n",
    ">We can add interval just by string like ‘1 month’, ’15 seconds’\n",
    ">\tFor adding multiple entries (INTERVAL '5years 2months 1day 1hour') this will work\n",
    ">\tDATE_ADD function-(DATE_ADD(start_date, INTERVAL expr unit);\n",
    "\n",
    ">\tNOW() function\n",
    "\n",
    "                       SELECT companies.permalink,\n",
    "\n",
    "                       companies.founded_at_clean,\n",
    "\n",
    "                       NOW() - companies.founded_at_clean::timestamp AS founded_time_ago\n",
    "                       \n",
    ">FROM tutorial.crunchbase_companies_clean_date companies\n",
    "\n",
    "                       WHERE founded_at_clean IS NOT NULL\n",
    "\n",
    "                       It gives the difference between current datetime and the column’s datetime\n",
    "\n"
   ]
  },
  {
   "cell_type": "markdown",
   "id": "1b108c04",
   "metadata": {},
   "source": [
    "## DATA WRANGLING"
   ]
  },
  {
   "cell_type": "markdown",
   "id": "85775cc7",
   "metadata": {},
   "source": [
    ">Modifying all of the values in columns or merging two columns\n",
    "\n",
    "\n",
    ">Merging two columns\n",
    "                                         \n",
    "                                         SELECT TABLE_SCHEMA + '.' + TABLE_NAME AS ColumnZ \n",
    "                                         FROM information_schema.tables\n"
   ]
  },
  {
   "cell_type": "markdown",
   "id": "ba9bbbbd",
   "metadata": {},
   "source": [
    "## SQL DATA CLEANING"
   ]
  },
  {
   "cell_type": "markdown",
   "id": "9a174979",
   "metadata": {},
   "source": [
    ">Cleaning strings(left, right, trim)- all of these are used to select specific characters from string. If these are used with numbers or dates then it will treat them as purpose of function and will give output\n",
    "\n",
    ">Left- left(column_name, position)- it will return everything before that position including position from left side\n",
    "\n",
    ">Right- right(column_name,position)- same but from right side\n",
    "\n",
    ">Trim- (SELECT location,\n",
    "\t    \n",
    "        TRIM(both '()' FROM location)\n",
    "\t  \n",
    "\n",
    ">FROM tutorial.sf_crime_incidents_2014_01 – it will remove parenthesis from both sides\n",
    "\n",
    "        \tThe TRIM function takes 3 arguments. First, you have to specify whether you want to remove characters from the beginning ('leading'), the end ('trailing'), or both ('both', as used above). Next you must specify all characters to be trimmed. Any characters included in the single quotes will be removed from both beginning, end, or both sides of the string. Finally, you must specify the text you want to trim using FROM.\n",
    "\n",
    ">.....POSITION – (SELECT incidnt_num,descript,\n",
    "\t       \n",
    ">POSITION('A' IN descript) AS a_position\n",
    "\n",
    ">FROM tutorial.sf_crime_incidents_2014_01) – it will return a position number where A appears counting from left\n",
    "\n",
    ">...STRPOS- (SELECT incidnt_num,descript,\n",
    "\t     \n",
    ">STRPOS(descript, 'A') AS a_position\n",
    "\n",
    ">FROM tutorial.sf_crime_incidents_2014_01) – It will return same result as position\n",
    "\n",
    ">...SUBSTR\n",
    ">LEFT and RIGHT both create substrings of a specified length, but they only do so starting from the sides of an existing string. If you want to start in the middle of a string, you can use SUBSTR. The syntax is SUBSTR(*string*, *starting character position*, *no of characters you want*):\n",
    "\n",
    ">Syntax-  SELECT incidnt_num,date,\t  \n",
    "\n",
    ">SUBSTR(date, 4, 2) AS day\n",
    "\n",
    ">FROM tutorial.sf_crime_incidents_2014_01\n",
    "\n",
    ">......CONCAT \n",
    "\n",
    ">M1- concat(a,b)\n",
    "\n",
    ">M2-a || b\n",
    "\n",
    ">....UPPER / LOWER\n",
    "\n",
    ">SELECT incidnt_num,\n",
    "\n",
    ">address,\n",
    "\n",
    ">UPPER(address) AS address_upper,\n",
    "\n",
    ">LOWER(address) AS address_lower\n",
    "\n",
    ">FROM tutorial.sf_crime_incidents_2014_01\n",
    "\n",
    ">....TURNING STRINGS INTO DATES\n",
    "\n",
    ">SELECT incidnt_num,\n",
    "\n",
    ">date,\n",
    "\n",
    ">(SUBSTR(date, 7, 4) || '-' || LEFT(date, 2) ||\n",
    "\n",
    ">'-' || SUBSTR(date, 4, 2))::date AS cleaned_date\n",
    "\n",
    ">FROM tutorial.sf_crime_incidents_2014_01\n",
    "\n",
    ">.....EXTRACT FUNCTION – will extract desired output\n",
    "\n",
    ">SELECT cleaned_date,\n",
    "\n",
    ">EXTRACT('year'  FROM cleaned_date) AS year,\n",
    "\n",
    ">EXTRACT('month'  FROM cleaned_date) AS month,\n",
    "\n",
    ">EXTRACT('day'    FROM cleaned_date) AS day,\n",
    "\n",
    ">EXTRACT('hour'   FROM cleaned_date) AS hour,\n",
    "\n",
    ">EXTRACT('minute' FROM cleaned_date) AS minute,\n",
    "\n",
    ">EXTRACT('second' FROM cleaned_date) AS second,\n",
    "\n",
    ">EXTRACT('decade' FROM cleaned_date) AS decade,\n",
    "\n",
    ">EXTRACT('dow'    FROM cleaned_date) AS day_of_week\n",
    "\n",
    ">FROM tutorial.sf_crime_incidents_cleandate\n",
    "\n",
    ">...COALESCE – it replaces null values with user defined values\n",
    "\n",
    ">SELECT incidnt_num,\n",
    "\n",
    ">descript,\n",
    "\n",
    ">COALESCE(descript, 'No Description')\n",
    "\n",
    ">FROM tutorial.sf_crime_incidents_cleandate\n",
    "\n",
    ">ORDER BY descript DESC\n"
   ]
  },
  {
   "cell_type": "markdown",
   "id": "c00a6328",
   "metadata": {},
   "source": [
    "## SUBQUERIES"
   ]
  },
  {
   "cell_type": "markdown",
   "id": "41732974",
   "metadata": {},
   "source": [
    ">\tSubqueries are basically use to aggregate the aggregate( e.g finding avg of count)\n",
    "\n",
    ">We can use them with select, from, where, join, AND etc.\n",
    "\n",
    ">They are quite simple just rad the que carefully\n",
    "\n",
    ">When you have to aggregate from certain columns use subqueries in from\n",
    "\n",
    ">When you have to take some from specific part use in where\n",
    "\n"
   ]
  },
  {
   "cell_type": "markdown",
   "id": "1b7abdb2",
   "metadata": {},
   "source": [
    ">SUBQUERIES-\n",
    "Subquery Basic;  SELECT sub.*\n",
    " \n",
    " >FROM (\n",
    " \n",
    " >results from inner query go here\n",
    "  \n",
    "  >) sub\n",
    " \n",
    " >WHERE sub.resolution = 'NONE'\n",
    " \n",
    " \n",
    ">You can write subqueries in from(),join(),where cluase(),having clause()\n"
   ]
  },
  {
   "cell_type": "markdown",
   "id": "d58f8524",
   "metadata": {},
   "source": [
    "## SQL WINDOW FUNCTIONS"
   ]
  },
  {
   "cell_type": "markdown",
   "id": "90b7f699",
   "metadata": {},
   "source": [
    "### Basic window syntax"
   ]
  },
  {
   "cell_type": "markdown",
   "id": "5795094a",
   "metadata": {},
   "source": [
    ">SELECT start_terminal,\n",
    "      \n",
    "      duration_seconds,\n",
    "      \n",
    "      SUM(duration_seconds) OVER\n",
    "      \n",
    "      (PARTITION BY start_terminal ORDER BY start_time)\n",
    "      \n",
    "      AS running_total\n",
    ">  FROM tutorial.dc_bikeshare_q1_2012\n",
    " \n",
    " >WHERE start_time < '2012-01-08'"
   ]
  },
  {
   "cell_type": "markdown",
   "id": "a1759fa5",
   "metadata": {},
   "source": [
    "> they are alterantive to group by\n",
    "\n",
    ">partition by same entries ka ek group bana deta hai"
   ]
  },
  {
   "cell_type": "markdown",
   "id": "8fa35245",
   "metadata": {},
   "source": [
    "#### ROW NUMBER()"
   ]
  },
  {
   "cell_type": "markdown",
   "id": "aa682370",
   "metadata": {},
   "source": [
    ">SELECT start_terminal,\n",
    "  \n",
    "       start_time,\n",
    "       \n",
    "       duration_seconds,\n",
    "       \n",
    "       ROW_NUMBER() OVER (ORDER BY start_time)\n",
    "       \n",
    "       AS row_number\n",
    "  \n",
    "  >FROM tutorial.dc_bikeshare_q1_2012\n",
    " \n",
    " >WHERE start_time < '2012-01-08'"
   ]
  },
  {
   "cell_type": "markdown",
   "id": "240370e0",
   "metadata": {},
   "source": [
    "> It returns a row number \n"
   ]
  },
  {
   "cell_type": "markdown",
   "id": "6aeca6f9",
   "metadata": {},
   "source": [
    "#### RANK(),DENSE_RANK()"
   ]
  },
  {
   "cell_type": "markdown",
   "id": "13ccfebc",
   "metadata": {},
   "source": [
    "> TO parse same entries in columns,it is better to use these functions\n",
    "\n",
    "> dense_Rank is better than rank as rank skips one row after ranking same rows but dense_Rank didn't do that\n",
    "\n",
    ">Syntax\n",
    "\n",
    ">SELECT start_terminal,\n",
    " \n",
    "       duration_seconds,\n",
    "       \n",
    "       RANK() OVER (PARTITION BY start_terminal\n",
    "       \n",
    "       ORDER BY start_time)\n",
    "       \n",
    "       AS rank\n",
    "  \n",
    "  >FROM tutorial.dc_bikeshare_q1_2012\n",
    " \n",
    " >WHERE start_time < '2012-01-08"
   ]
  },
  {
   "cell_type": "markdown",
   "id": "d742443d",
   "metadata": {},
   "source": [
    "#### NTILE()"
   ]
  },
  {
   "cell_type": "markdown",
   "id": "11e86cda",
   "metadata": {},
   "source": [
    "> Let's assume after partition you got 16 same entries and you write ntile(4)\n",
    "\n",
    "> so wo un 16 entries ko 4 ke groups me divide karega\n",
    "\n",
    ">if ntile(5) to 5 ke group me divide karega\n",
    "\n",
    ">syntax\n",
    "\n",
    ">SELECT start_terminal,\n",
    "       \n",
    "       duration_seconds,\n",
    "       \n",
    "       NTILE(4) OVER\n",
    "       \n",
    "       (PARTITION BY start_terminal ORDER BY duration_seconds)\n",
    "       \n",
    "       AS quartile,\n",
    "       \n",
    "       NTILE(5) OVER\n",
    "       \n",
    "       (PARTITION BY start_terminal ORDER BY duration_seconds)\n",
    "       \n",
    "       AS quintile,\n",
    "       \n",
    "       NTILE(100) OVER\n",
    "       \n",
    "       (PARTITION BY start_terminal ORDER BY duration_seconds)\n",
    "       \n",
    "       AS percentile\n",
    "  \n",
    "  >FROM tutorial.dc_bikeshare_q1_2012\n",
    " \n",
    " >WHERE start_time < '2012-01-08'\n",
    " \n",
    " >ORDER BY start_terminal, duration_seconds"
   ]
  },
  {
   "cell_type": "markdown",
   "id": "f33af8fb",
   "metadata": {},
   "source": [
    "#### LAG() AND LEAD()"
   ]
  },
  {
   "cell_type": "markdown",
   "id": "2788cb3f",
   "metadata": {},
   "source": [
    "> It is used to compare previous and following rows\n",
    "\n",
    ">syntax\n",
    "SELECT start_terminal,\n",
    "      \n",
    "      duration_seconds,\n",
    "      \n",
    "      LAG(duration_seconds, 1) OVER\n",
    "      \n",
    "      (PARTITION BY start_terminal ORDER BY duration_seconds) AS lag,\n",
    "      \n",
    "      LEAD(duration_seconds, 1) OVER\n",
    "      \n",
    "      (PARTITION BY start_terminal ORDER BY duration_seconds) AS lead\n",
    "  \n",
    "  >FROM tutorial.dc_bikeshare_q1_2012\n",
    " \n",
    " >WHERE start_time < '2012-01-08'\n",
    " \n",
    " >ORDER BY start_terminal, duration_seconds\n",
    " \n",
    " > You can also perform arithematic operations using lag() and lead()"
   ]
  },
  {
   "cell_type": "markdown",
   "id": "7436282b",
   "metadata": {},
   "source": [
    "## Performance Tuning SQL Queries"
   ]
  },
  {
   "cell_type": "markdown",
   "id": "b4c59dd9",
   "metadata": {},
   "source": [
    "> try to use subqueries as much as possible as it will help to reduce running time\n",
    "\n",
    "> multiple joining can drastically affect the performance"
   ]
  }
 ],
 "metadata": {
  "kernelspec": {
   "display_name": "Python 3",
   "language": "python",
   "name": "python3"
  },
  "language_info": {
   "codemirror_mode": {
    "name": "ipython",
    "version": 3
   },
   "file_extension": ".py",
   "mimetype": "text/x-python",
   "name": "python",
   "nbconvert_exporter": "python",
   "pygments_lexer": "ipython3",
   "version": "3.9.5"
  }
 },
 "nbformat": 4,
 "nbformat_minor": 5
}
